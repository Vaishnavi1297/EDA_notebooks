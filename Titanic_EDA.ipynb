{
 "cells": [
  {
   "cell_type": "code",
   "execution_count": 2,
   "id": "c3cf45ee",
   "metadata": {},
   "outputs": [],
   "source": [
    "import pandas as pd\n",
    "import numpy as np\n",
    "import matplotlib.pyplot as plt\n",
    "import seaborn as sns\n",
    "\n",
    "import warnings\n",
    "warnings.filterwarnings('ignore')"
   ]
  },
  {
   "cell_type": "markdown",
   "id": "2f7820b6",
   "metadata": {},
   "source": [
    "https://raw.githubusercontent.com/dphi-official/First_ML_Model/master/titanic.csv"
   ]
  },
  {
   "cell_type": "code",
   "execution_count": 6,
   "id": "f77035c0",
   "metadata": {},
   "outputs": [],
   "source": [
    "titanic_df = pd.read_csv('https://raw.githubusercontent.com/dphi-official/First_ML_Model/master/titanic.csv', sep=\",\")\n"
   ]
  },
  {
   "cell_type": "code",
   "execution_count": 8,
   "id": "068ea788",
   "metadata": {
    "scrolled": true
   },
   "outputs": [
    {
     "data": {
      "text/html": [
       "<div>\n",
       "<style scoped>\n",
       "    .dataframe tbody tr th:only-of-type {\n",
       "        vertical-align: middle;\n",
       "    }\n",
       "\n",
       "    .dataframe tbody tr th {\n",
       "        vertical-align: top;\n",
       "    }\n",
       "\n",
       "    .dataframe thead th {\n",
       "        text-align: right;\n",
       "    }\n",
       "</style>\n",
       "<table border=\"1\" class=\"dataframe\">\n",
       "  <thead>\n",
       "    <tr style=\"text-align: right;\">\n",
       "      <th></th>\n",
       "      <th>PassengerId</th>\n",
       "      <th>Survived</th>\n",
       "      <th>Pclass</th>\n",
       "      <th>Name</th>\n",
       "      <th>Sex</th>\n",
       "      <th>Age</th>\n",
       "      <th>SibSp</th>\n",
       "      <th>Parch</th>\n",
       "      <th>Ticket</th>\n",
       "      <th>Fare</th>\n",
       "      <th>Cabin</th>\n",
       "      <th>Embarked</th>\n",
       "    </tr>\n",
       "  </thead>\n",
       "  <tbody>\n",
       "    <tr>\n",
       "      <th>0</th>\n",
       "      <td>1</td>\n",
       "      <td>0</td>\n",
       "      <td>3</td>\n",
       "      <td>Braund, Mr. Owen Harris</td>\n",
       "      <td>male</td>\n",
       "      <td>22.0</td>\n",
       "      <td>1</td>\n",
       "      <td>0</td>\n",
       "      <td>A/5 21171</td>\n",
       "      <td>7.2500</td>\n",
       "      <td>NaN</td>\n",
       "      <td>S</td>\n",
       "    </tr>\n",
       "    <tr>\n",
       "      <th>1</th>\n",
       "      <td>2</td>\n",
       "      <td>1</td>\n",
       "      <td>1</td>\n",
       "      <td>Cumings, Mrs. John Bradley (Florence Briggs Th...</td>\n",
       "      <td>female</td>\n",
       "      <td>38.0</td>\n",
       "      <td>1</td>\n",
       "      <td>0</td>\n",
       "      <td>PC 17599</td>\n",
       "      <td>71.2833</td>\n",
       "      <td>C85</td>\n",
       "      <td>C</td>\n",
       "    </tr>\n",
       "    <tr>\n",
       "      <th>2</th>\n",
       "      <td>3</td>\n",
       "      <td>1</td>\n",
       "      <td>3</td>\n",
       "      <td>Heikkinen, Miss. Laina</td>\n",
       "      <td>female</td>\n",
       "      <td>26.0</td>\n",
       "      <td>0</td>\n",
       "      <td>0</td>\n",
       "      <td>STON/O2. 3101282</td>\n",
       "      <td>7.9250</td>\n",
       "      <td>NaN</td>\n",
       "      <td>S</td>\n",
       "    </tr>\n",
       "    <tr>\n",
       "      <th>3</th>\n",
       "      <td>4</td>\n",
       "      <td>1</td>\n",
       "      <td>1</td>\n",
       "      <td>Futrelle, Mrs. Jacques Heath (Lily May Peel)</td>\n",
       "      <td>female</td>\n",
       "      <td>35.0</td>\n",
       "      <td>1</td>\n",
       "      <td>0</td>\n",
       "      <td>113803</td>\n",
       "      <td>53.1000</td>\n",
       "      <td>C123</td>\n",
       "      <td>S</td>\n",
       "    </tr>\n",
       "    <tr>\n",
       "      <th>4</th>\n",
       "      <td>5</td>\n",
       "      <td>0</td>\n",
       "      <td>3</td>\n",
       "      <td>Allen, Mr. William Henry</td>\n",
       "      <td>male</td>\n",
       "      <td>35.0</td>\n",
       "      <td>0</td>\n",
       "      <td>0</td>\n",
       "      <td>373450</td>\n",
       "      <td>8.0500</td>\n",
       "      <td>NaN</td>\n",
       "      <td>S</td>\n",
       "    </tr>\n",
       "  </tbody>\n",
       "</table>\n",
       "</div>"
      ],
      "text/plain": [
       "   PassengerId  Survived  Pclass  \\\n",
       "0            1         0       3   \n",
       "1            2         1       1   \n",
       "2            3         1       3   \n",
       "3            4         1       1   \n",
       "4            5         0       3   \n",
       "\n",
       "                                                Name     Sex   Age  SibSp  \\\n",
       "0                            Braund, Mr. Owen Harris    male  22.0      1   \n",
       "1  Cumings, Mrs. John Bradley (Florence Briggs Th...  female  38.0      1   \n",
       "2                             Heikkinen, Miss. Laina  female  26.0      0   \n",
       "3       Futrelle, Mrs. Jacques Heath (Lily May Peel)  female  35.0      1   \n",
       "4                           Allen, Mr. William Henry    male  35.0      0   \n",
       "\n",
       "   Parch            Ticket     Fare Cabin Embarked  \n",
       "0      0         A/5 21171   7.2500   NaN        S  \n",
       "1      0          PC 17599  71.2833   C85        C  \n",
       "2      0  STON/O2. 3101282   7.9250   NaN        S  \n",
       "3      0            113803  53.1000  C123        S  \n",
       "4      0            373450   8.0500   NaN        S  "
      ]
     },
     "execution_count": 8,
     "metadata": {},
     "output_type": "execute_result"
    }
   ],
   "source": [
    "titanic_df.head()"
   ]
  },
  {
   "cell_type": "markdown",
   "id": "38057b47",
   "metadata": {},
   "source": [
    "######  Null values"
   ]
  },
  {
   "cell_type": "code",
   "execution_count": 9,
   "id": "5d39acc1",
   "metadata": {},
   "outputs": [
    {
     "data": {
      "text/plain": [
       "PassengerId      0\n",
       "Survived         0\n",
       "Pclass           0\n",
       "Name             0\n",
       "Sex              0\n",
       "Age            177\n",
       "SibSp            0\n",
       "Parch            0\n",
       "Ticket           0\n",
       "Fare             0\n",
       "Cabin          687\n",
       "Embarked         2\n",
       "dtype: int64"
      ]
     },
     "execution_count": 9,
     "metadata": {},
     "output_type": "execute_result"
    }
   ],
   "source": [
    "titanic_df.isna().sum()"
   ]
  },
  {
   "cell_type": "markdown",
   "id": "ffc10ffa",
   "metadata": {},
   "source": [
    "###### No. of male passengers is more than female passengers"
   ]
  },
  {
   "cell_type": "code",
   "execution_count": 11,
   "id": "544248fc",
   "metadata": {},
   "outputs": [
    {
     "data": {
      "text/plain": [
       "male      577\n",
       "female    314\n",
       "Name: Sex, dtype: int64"
      ]
     },
     "execution_count": 11,
     "metadata": {},
     "output_type": "execute_result"
    }
   ],
   "source": [
    "titanic_df.Sex.value_counts()"
   ]
  },
  {
   "cell_type": "markdown",
   "id": "811d659c",
   "metadata": {},
   "source": [
    "##### What is the proportion of passengers who survived?"
   ]
  },
  {
   "cell_type": "code",
   "execution_count": 14,
   "id": "00dcf7ff",
   "metadata": {},
   "outputs": [
    {
     "data": {
      "text/plain": [
       "0    0.62\n",
       "1    0.38\n",
       "Name: Survived, dtype: float64"
      ]
     },
     "execution_count": 14,
     "metadata": {},
     "output_type": "execute_result"
    }
   ],
   "source": [
    "round(titanic_df.Survived.value_counts(normalize=True),2)"
   ]
  },
  {
   "cell_type": "markdown",
   "id": "b6568beb",
   "metadata": {},
   "source": [
    "###### What is the median Fare of the passengers?   "
   ]
  },
  {
   "cell_type": "code",
   "execution_count": 15,
   "id": "7eabc42c",
   "metadata": {},
   "outputs": [
    {
     "data": {
      "text/plain": [
       "14.4542"
      ]
     },
     "execution_count": 15,
     "metadata": {},
     "output_type": "execute_result"
    }
   ],
   "source": [
    "titanic_df.Fare.median()"
   ]
  },
  {
   "cell_type": "markdown",
   "id": "459c235d",
   "metadata": {},
   "source": [
    "##### Percentage of women survived was more than male?\n",
    "##### Were first class passengers given priority??\n",
    "##### Were children given priority "
   ]
  },
  {
   "cell_type": "code",
   "execution_count": 90,
   "id": "4e892eeb",
   "metadata": {},
   "outputs": [],
   "source": [
    "x = titanic_df.drop('Survived', axis=1)\n",
    "y = titanic_df.Survived"
   ]
  },
  {
   "cell_type": "code",
   "execution_count": 19,
   "id": "1153966d",
   "metadata": {},
   "outputs": [],
   "source": [
    "#titanic_df.hist(bins=10, figsize=(16,12))\n",
    "#plt.show()"
   ]
  },
  {
   "cell_type": "code",
   "execution_count": 20,
   "id": "1e873a0c",
   "metadata": {},
   "outputs": [],
   "source": [
    "#plt.figure(figsize=(16,12))\n",
    "#sns.heatmap(titanic_df.corr(), cmap='bwr', annot=True)"
   ]
  },
  {
   "cell_type": "markdown",
   "id": "e3dbe706",
   "metadata": {},
   "source": [
    "###### Sex vs Survived"
   ]
  },
  {
   "cell_type": "markdown",
   "id": "10703e84",
   "metadata": {},
   "source": [
    "def bar_chart(feature):\n",
    "    survived = titanic_df[titanic_df['Survived']==1][feature].value_counts()\n",
    "    dead = titanic_df[titanic_df['Survived']==0][feature].value_counts()\n",
    "    df = pd.DataFrame([survived,dead])\n",
    "    df.index = ['Survived','Dead']\n",
    "    df.plot(kind='bar',stacked=True, figsize=(15,7))\n",
    "    \n",
    "bar_chart('Sex')"
   ]
  },
  {
   "cell_type": "markdown",
   "id": "2ed3c068",
   "metadata": {},
   "source": [
    "##### Now let's see a barplot of Pclass\n"
   ]
  },
  {
   "cell_type": "code",
   "execution_count": 34,
   "id": "80d43256",
   "metadata": {},
   "outputs": [
    {
     "data": {
      "image/png": "[encoded data removed]",
      "text/plain": [
       "<Figure size 1500x700 with 1 Axes>"
      ]
     },
     "metadata": {},
     "output_type": "display_data"
    }
   ],
   "source": [
    "bar_chart('Pclass')"
   ]
  },
  {
   "cell_type": "markdown",
   "id": "36de39a6",
   "metadata": {},
   "source": [
    "##### Let's see for SibSp\n"
   ]
  },
  {
   "cell_type": "code",
   "execution_count": 35,
   "id": "5ae6c12d",
   "metadata": {},
   "outputs": [
    {
     "data": {
      "image/png": "[encoded data removed]",
      "text/plain": [
       "<Figure size 1500x700 with 1 Axes>"
      ]
     },
     "metadata": {},
     "output_type": "display_data"
    }
   ],
   "source": [
    "bar_chart('SibSp')"
   ]
  },
  {
   "cell_type": "markdown",
   "id": "94dbafb0",
   "metadata": {},
   "source": [
    "##### How many of the survived passengers had embarked from 'Southampton' i.e. 'S'?"
   ]
  },
  {
   "cell_type": "code",
   "execution_count": 47,
   "id": "3d2dfc7d",
   "metadata": {},
   "outputs": [
    {
     "data": {
      "text/plain": [
       "Embarked  Survived\n",
       "C         1            93\n",
       "          0            75\n",
       "Q         0            47\n",
       "          1            30\n",
       "S         0           427\n",
       "          1           217\n",
       "dtype: int64"
      ]
     },
     "execution_count": 47,
     "metadata": {},
     "output_type": "execute_result"
    }
   ],
   "source": [
    "titanic_df[['Survived','Embarked']].groupby('Embarked').value_counts()#.plot.bar()"
   ]
  },
  {
   "cell_type": "markdown",
   "id": "4cd64a6b",
   "metadata": {},
   "source": [
    "##### Five highest fares of the passengers(not unique):"
   ]
  },
  {
   "cell_type": "code",
   "execution_count": 79,
   "id": "35c4c171",
   "metadata": {},
   "outputs": [
    {
     "data": {
      "text/plain": [
       "258    512.3292\n",
       "737    512.3292\n",
       "679    512.3292\n",
       "88     263.0000\n",
       "27     263.0000\n",
       "Name: Fare, dtype: float64"
      ]
     },
     "execution_count": 79,
     "metadata": {},
     "output_type": "execute_result"
    }
   ],
   "source": [
    "\n",
    "sorted_fare = titanic_df.sort_values('Fare', ascending=False)\n",
    "sorted_fare.Fare.head()"
   ]
  },
  {
   "cell_type": "markdown",
   "id": "d1c30b4d",
   "metadata": {},
   "source": [
    "##### Median age of the passengers is:"
   ]
  },
  {
   "cell_type": "code",
   "execution_count": 80,
   "id": "04d762b8",
   "metadata": {},
   "outputs": [
    {
     "data": {
      "text/plain": [
       "28.0"
      ]
     },
     "execution_count": 80,
     "metadata": {},
     "output_type": "execute_result"
    }
   ],
   "source": [
    "titanic_df.Age.median()"
   ]
  },
  {
   "cell_type": "markdown",
   "id": "3ab1f382",
   "metadata": {},
   "source": [
    "###### Name column unique count:"
   ]
  },
  {
   "cell_type": "code",
   "execution_count": 88,
   "id": "0fd004db",
   "metadata": {},
   "outputs": [
    {
     "data": {
      "text/plain": [
       "891"
      ]
     },
     "execution_count": 88,
     "metadata": {},
     "output_type": "execute_result"
    }
   ],
   "source": [
    "titanic_df.Name.nunique()"
   ]
  },
  {
   "cell_type": "markdown",
   "id": "47993cde",
   "metadata": {},
   "source": [
    "###### Most of the passengers have _____ siblings/spouses."
   ]
  },
  {
   "cell_type": "code",
   "execution_count": 89,
   "id": "536a0502",
   "metadata": {},
   "outputs": [
    {
     "data": {
      "text/plain": [
       "SibSp\n",
       "0        608\n",
       "1        209\n",
       "2         28\n",
       "4         18\n",
       "3         16\n",
       "8          7\n",
       "5          5\n",
       "dtype: int64"
      ]
     },
     "execution_count": 89,
     "metadata": {},
     "output_type": "execute_result"
    }
   ],
   "source": [
    "titanic_df[['SibSp']].value_counts()"
   ]
  },
  {
   "cell_type": "markdown",
   "id": "98e1faf6",
   "metadata": {},
   "source": [
    "##### Which of the following feature plays an important role in the survival of the passengers?"
   ]
  },
  {
   "cell_type": "code",
   "execution_count": 93,
   "id": "4a973db3",
   "metadata": {},
   "outputs": [
    {
     "ename": "SyntaxError",
     "evalue": "positional argument follows keyword argument (3292496445.py, line 4)",
     "output_type": "error",
     "traceback": [
      "\u001b[1;36m  Cell \u001b[1;32mIn [93], line 4\u001b[1;36m\u001b[0m\n\u001b[1;33m    plt.plot(kind='bar', data=x, y)\u001b[0m\n\u001b[1;37m                                  ^\u001b[0m\n\u001b[1;31mSyntaxError\u001b[0m\u001b[1;31m:\u001b[0m positional argument follows keyword argument\n"
     ]
    }
   ],
   "source": [
    "# x = titanic_df.drop('Survived', axis=1)\n",
    "# y = titanic_df.Survived\n",
    "\n",
    "plt.plot(kind='bar', data=x, y)"
   ]
  },
  {
   "cell_type": "code",
   "execution_count": null,
   "id": "601444e8",
   "metadata": {},
   "outputs": [],
   "source": []
  }
 ],
 "metadata": {
  "kernelspec": {
   "display_name": "Python 3 (ipykernel)",
   "language": "python",
   "name": "python3"
  },
  "language_info": {
   "codemirror_mode": {
    "name": "ipython",
    "version": 3
   },
   "file_extension": ".py",
   "mimetype": "text/x-python",
   "name": "python",
   "nbconvert_exporter": "python",
   "pygments_lexer": "ipython3",
   "version": "3.10.7"
  }
 },
 "nbformat": 4,
 "nbformat_minor": 5
}
